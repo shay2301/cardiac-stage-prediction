{
  "cells": [
    {
      "cell_type": "code",
      "execution_count": 5,
      "metadata": {
        "id": "-iIqfmaLvBvM"
      },
      "outputs": [],
      "source": [
        "import cv2\n",
        "import numpy as np\n",
        "from scipy.spatial import distance\n",
        "import ipywidgets as widgets\n",
        "from IPython.display import display, clear_output\n",
        "import pandas as pd\n",
        "from torchvision.io import read_video\n",
        "from re import I\n",
        "import os\n",
        "import torch\n",
        "from torchvision.io import read_video\n",
        "from IPython.display import HTML, display\n",
        "from base64 import b64encode\n",
        "from PIL import Image\n",
        "import io\n",
        "from sklearn.model_selection import train_test_split"
      ]
    },
    {
      "cell_type": "code",
      "execution_count": 2,
      "metadata": {
        "colab": {
          "base_uri": "https://localhost:8080/",
          "height": 17
        },
        "id": "rtNJN7jIwqON",
        "outputId": "62196726-55ff-4091-b4cd-10e9e405afa3"
      },
      "outputs": [
        {
          "data": {},
          "metadata": {},
          "output_type": "display_data"
        }
      ],
      "source": [
        "def extract_frames(video_path, every_n_frames=1):\n",
        "    \"\"\"Extracts frames from a video file.\"\"\"\n",
        "    cap = cv2.VideoCapture(video_path)\n",
        "    frame_count = int(cap.get(cv2.CAP_PROP_FRAME_COUNT))\n",
        "    frames = []\n",
        "    for i in range(frame_count):\n",
        "        ret, frame = cap.read()\n",
        "        if i % every_n_frames == 0 and ret:\n",
        "            frames.append(cv2.cvtColor(frame, cv2.COLOR_BGR2RGB))\n",
        "    cap.release()\n",
        "    return frames\n",
        "\n",
        "# Create a display handle\n",
        "display_handle = display(display_id=True)"
      ]
    },
    {
      "cell_type": "code",
      "execution_count": 3,
      "metadata": {
        "id": "nkgSmtQNHWb8"
      },
      "outputs": [],
      "source": [
        "root_dir = r'C:\\Shay\\VIZ.AI\\cardiac_stage_pred\\EchoNet-Dynamic'"
      ]
    },
    {
      "cell_type": "code",
      "execution_count": 6,
      "metadata": {},
      "outputs": [
        {
          "name": "stderr",
          "output_type": "stream",
          "text": [
            "C:\\Users\\shay2\\AppData\\Local\\Temp\\ipykernel_9284\\3334704470.py:25: DeprecationWarning: DataFrameGroupBy.apply operated on the grouping columns. This behavior is deprecated, and in a future version of pandas the grouping columns will be excluded from the operation. Either pass `include_groups=False` to exclude the groupings or explicitly select the grouping columns after groupby to silence this warning.\n",
            "  df_polygons = gb_tracing.apply(process_group).reset_index(name='polygon')\n"
          ]
        }
      ],
      "source": [
        "df_tracing = pd.read_csv(os.path.join(root_dir, 'VolumeTracings.csv'))\n",
        "\n",
        "def order_coordinates(coords):\n",
        "    coords = list(coords)\n",
        "    polygon = [coords.pop(0)]  # Start with the first point\n",
        "    while coords:\n",
        "        last_point = polygon[-1]\n",
        "        distances = distance.cdist([last_point], coords, 'euclidean')[0]\n",
        "        nearest_index = np.argmin(distances)\n",
        "        polygon.append(coords.pop(nearest_index))\n",
        "    return polygon\n",
        "\n",
        "def process_group(group):\n",
        "    combined_coords = group['r1'].tolist() + group['r2'].tolist()\n",
        "    ordered_polygon = order_coordinates(combined_coords)\n",
        "    return np.array(ordered_polygon).round().astype(np.int32)\n",
        "\n",
        "df_tracing['r1'] = list(zip(df_tracing['X1'], df_tracing['Y1']))\n",
        "df_tracing['r2'] = list(zip(df_tracing['X2'], df_tracing['Y2']))\n",
        "\n",
        "# Group by 'FileName' and 'Frame'\n",
        "gb_tracing = df_tracing.groupby(['FileName', 'Frame'])\n",
        "\n",
        "# Apply the function to each group\n",
        "df_polygons = gb_tracing.apply(process_group).reset_index(name='polygon')\n",
        "\n",
        "# Save the polygons\n",
        "df_polygons.to_csv(os.path.join(root_dir, 'df_polygons.csv'), index=False)"
      ]
    },
    {
      "cell_type": "code",
      "execution_count": null,
      "metadata": {
        "id": "SFVIdM1C8jFU"
      },
      "outputs": [],
      "source": [
        "def update_frame(change,frame_cords,frames, df_polygons, filename):\n",
        "    frame_idx = change['new']\n",
        "    zoom_level = 2\n",
        "    # Check if there's a line to draw for the current frame\n",
        "    if frame_idx in frame_cords['Frame'].values:\n",
        "        # Find the row in the DataFrame for the current frame\n",
        "        frame_rows = frame_cords[frame_cords['Frame'] == frame_idx]\n",
        "        # Extract line coordinates\n",
        "        # Draw the line on the frame\n",
        "        frame_with_lines = frames[frame_idx].copy()\n",
        "        for _, row in frame_rows.iterrows():\n",
        "          x1, y1, x2, y2 = round(row['X1']), round(row['Y1']), round(row['X2']), round(row['Y2'])\n",
        "          slope = (y2 - y1) / (x2 - x1) if x2 != x1 else float('inf')  # Avoid division by zero\n",
        "\n",
        "            # Choose the color based on the slope\n",
        "          color = (255, 0, 0)  # Default color (red) for non-positive slope\n",
        "          if slope > 0:\n",
        "              color = (0, 0, 255)  # Blue color for positive slope\n",
        "\n",
        "          patient_index = df_polygons.index[(df_polygons['FileName'] == filename) & (df_polygons['Frame'] == frame_idx)].tolist()[0]\n",
        "          pts = df_polygons.iloc[patient_index]['polygon']\n",
        "          # pts = np.concatenate((pts[:pts.shape[0]//2], pts[:pts.shape[0]//2 - pts.shape[0]:-1]))\n",
        "          # pts = np.concatenate([pts, pts[[0]]])\n",
        "          # cv2.polylines(frame_with_lines, [pts], True, (0,255,255))\n",
        "          cv2.fillPoly(frame_with_lines, [pts], 255)\n",
        "          # print(pts.shape)\n",
        "    else:\n",
        "        frame_with_lines = frames[frame_idx]\n",
        "\n",
        "    # Resize the frame\n",
        "    frame_with_lines = cv2.resize(frame_with_lines, None, fx=4, fy=4, interpolation=cv2.INTER_LINEAR)\n",
        "\n",
        "    # Encode the frame to display in the notebook\n",
        "    _, encoded_image = cv2.imencode('.png', frame_with_lines)\n",
        "    encoded_image = b64encode(encoded_image).decode('utf-8')\n",
        "    image_html = f'<img src=\"data:image/png;base64,{encoded_image}\" style=\"width: auto; height: auto;\">'\n",
        "\n",
        "    # Update the display with the new image\n",
        "    display_handle.update(HTML(image_html))"
      ]
    },
    {
      "cell_type": "code",
      "execution_count": null,
      "metadata": {
        "id": "dYBqv9T5I_8T"
      },
      "outputs": [],
      "source": [
        "def analyzeImage(video_path, df_polygons, filename):\n",
        "  df = df_tracing[df_tracing['FileName'] ==  filename ]\n",
        "  print(f'Processing image{filename}')\n",
        "  print(f'This video has labels from frames: { df.Frame.unique()}')\n",
        "  frames = extract_frames(video_path, every_n_frames=1)\n",
        "  frame_slider = widgets.IntSlider(value=df.Frame.unique()[0], min=0, max=len(frames)-1, description='Frame:')\n",
        "  zoom_slider = widgets.FloatSlider(value=1.0, min=0.5, max=4.0, step=0.1, description='Zoom:')\n",
        "\n",
        "  frame_slider.observe(lambda change: update_frame(change, df, frames, df_polygons, filename), names='value')\n",
        "  zoom_slider.observe(lambda change: update_frame(change, df,frames, df_polygons, filename), names='value')\n",
        "\n",
        "\n",
        "  # Display the widgets\n",
        "  display(widgets.VBox([frame_slider, zoom_slider]))\n",
        "\n",
        "  # Initial display to show the first frame\n",
        "  update_frame({'new': df.Frame.unique()[0]}, df,frames, df_polygons, filename)  # Simulate change dict if needed\n",
        "\n"
      ]
    },
    {
      "cell_type": "code",
      "execution_count": null,
      "metadata": {
        "id": "UZMaoxzrJINi"
      },
      "outputs": [],
      "source": [
        "filename = os.listdir(os.path.join(root_dir, 'Videos'))[7285]\n",
        "\n",
        "video_path = os.path.join(root_dir, 'Videos', filename)\n"
      ]
    },
    {
      "cell_type": "code",
      "execution_count": 9,
      "metadata": {
        "colab": {
          "base_uri": "https://localhost:8080/",
          "height": 585,
          "referenced_widgets": [
            "d9b1ae3543c045638758df08ce276335",
            "b43ed49270044c9db26a7e4339d0d531",
            "b732d4d2741243978a36c09bdb8f2c3f",
            "0b4b68e9b9d3457dbe54934b368ff675",
            "86d54279bbaf49d3bec785ca63ec3a89",
            "e8330b716df14e4590ea4416edd4111d",
            "dfd11b2f983a4e1ba9b4fb8f91d6b99f",
            "53751b352ec7469898c1d56a70f812b9"
          ]
        },
        "id": "7ZjTumV8JGyK",
        "outputId": "4ed0f03a-07f8-4f48-b2c3-254a37ad49e6"
      },
      "outputs": [
        {
          "name": "stdout",
          "output_type": "stream",
          "text": [
            "0X66DC4A8DD37055CC.avi\n",
            "Processing image0X66DC4A8DD37055CC.avi\n",
            "This video has labels from frames: [50 66]\n"
          ]
        },
        {
          "data": {
            "application/vnd.jupyter.widget-view+json": {
              "model_id": "8bd6b45a0f9a46b0b7945e8d0896e2b8",
              "version_major": 2,
              "version_minor": 0
            },
            "text/plain": [
              "VBox(children=(IntSlider(value=50, description='Frame:', max=219), FloatSlider(value=1.0, description='Zoom:',…"
            ]
          },
          "metadata": {},
          "output_type": "display_data"
        }
      ],
      "source": [
        "print(filename)\n",
        "analyzeImage(video_path, df_polygons, filename)"
      ]
    },
    {
      "cell_type": "code",
      "execution_count": 13,
      "metadata": {
        "colab": {
          "base_uri": "https://localhost:8080/"
        },
        "id": "mPIjK0ltK59A",
        "outputId": "7cfa0323-9d4b-4db5-a378-01fa55174665"
      },
      "outputs": [
        {
          "name": "stdout",
          "output_type": "stream",
          "text": [
            "(42, 2)\n"
          ]
        }
      ],
      "source": [
        "print(df_polygons['polygon'][0].shape)"
      ]
    },
    {
      "cell_type": "code",
      "execution_count": null,
      "metadata": {
        "id": "y6nVDkWgoz5x"
      },
      "outputs": [],
      "source": []
    }
  ],
  "metadata": {
    "colab": {
      "provenance": []
    },
    "kernelspec": {
      "display_name": "Python 3",
      "name": "python3"
    },
    "language_info": {
      "codemirror_mode": {
        "name": "ipython",
        "version": 3
      },
      "file_extension": ".py",
      "mimetype": "text/x-python",
      "name": "python",
      "nbconvert_exporter": "python",
      "pygments_lexer": "ipython3",
      "version": "3.12.3"
    },
    "widgets": {
      "application/vnd.jupyter.widget-state+json": {
        "0b4b68e9b9d3457dbe54934b368ff675": {
          "model_module": "@jupyter-widgets/base",
          "model_module_version": "1.2.0",
          "model_name": "LayoutModel",
          "state": {
            "_model_module": "@jupyter-widgets/base",
            "_model_module_version": "1.2.0",
            "_model_name": "LayoutModel",
            "_view_count": null,
            "_view_module": "@jupyter-widgets/base",
            "_view_module_version": "1.2.0",
            "_view_name": "LayoutView",
            "align_content": null,
            "align_items": null,
            "align_self": null,
            "border": null,
            "bottom": null,
            "display": null,
            "flex": null,
            "flex_flow": null,
            "grid_area": null,
            "grid_auto_columns": null,
            "grid_auto_flow": null,
            "grid_auto_rows": null,
            "grid_column": null,
            "grid_gap": null,
            "grid_row": null,
            "grid_template_areas": null,
            "grid_template_columns": null,
            "grid_template_rows": null,
            "height": null,
            "justify_content": null,
            "justify_items": null,
            "left": null,
            "margin": null,
            "max_height": null,
            "max_width": null,
            "min_height": null,
            "min_width": null,
            "object_fit": null,
            "object_position": null,
            "order": null,
            "overflow": null,
            "overflow_x": null,
            "overflow_y": null,
            "padding": null,
            "right": null,
            "top": null,
            "visibility": null,
            "width": null
          }
        },
        "53751b352ec7469898c1d56a70f812b9": {
          "model_module": "@jupyter-widgets/controls",
          "model_module_version": "1.5.0",
          "model_name": "SliderStyleModel",
          "state": {
            "_model_module": "@jupyter-widgets/controls",
            "_model_module_version": "1.5.0",
            "_model_name": "SliderStyleModel",
            "_view_count": null,
            "_view_module": "@jupyter-widgets/base",
            "_view_module_version": "1.2.0",
            "_view_name": "StyleView",
            "description_width": "",
            "handle_color": null
          }
        },
        "86d54279bbaf49d3bec785ca63ec3a89": {
          "model_module": "@jupyter-widgets/base",
          "model_module_version": "1.2.0",
          "model_name": "LayoutModel",
          "state": {
            "_model_module": "@jupyter-widgets/base",
            "_model_module_version": "1.2.0",
            "_model_name": "LayoutModel",
            "_view_count": null,
            "_view_module": "@jupyter-widgets/base",
            "_view_module_version": "1.2.0",
            "_view_name": "LayoutView",
            "align_content": null,
            "align_items": null,
            "align_self": null,
            "border": null,
            "bottom": null,
            "display": null,
            "flex": null,
            "flex_flow": null,
            "grid_area": null,
            "grid_auto_columns": null,
            "grid_auto_flow": null,
            "grid_auto_rows": null,
            "grid_column": null,
            "grid_gap": null,
            "grid_row": null,
            "grid_template_areas": null,
            "grid_template_columns": null,
            "grid_template_rows": null,
            "height": null,
            "justify_content": null,
            "justify_items": null,
            "left": null,
            "margin": null,
            "max_height": null,
            "max_width": null,
            "min_height": null,
            "min_width": null,
            "object_fit": null,
            "object_position": null,
            "order": null,
            "overflow": null,
            "overflow_x": null,
            "overflow_y": null,
            "padding": null,
            "right": null,
            "top": null,
            "visibility": null,
            "width": null
          }
        },
        "b43ed49270044c9db26a7e4339d0d531": {
          "model_module": "@jupyter-widgets/controls",
          "model_module_version": "1.5.0",
          "model_name": "IntSliderModel",
          "state": {
            "_dom_classes": [],
            "_model_module": "@jupyter-widgets/controls",
            "_model_module_version": "1.5.0",
            "_model_name": "IntSliderModel",
            "_view_count": null,
            "_view_module": "@jupyter-widgets/controls",
            "_view_module_version": "1.5.0",
            "_view_name": "IntSliderView",
            "continuous_update": true,
            "description": "Frame:",
            "description_tooltip": null,
            "disabled": false,
            "layout": "IPY_MODEL_86d54279bbaf49d3bec785ca63ec3a89",
            "max": 161,
            "min": 0,
            "orientation": "horizontal",
            "readout": true,
            "readout_format": "d",
            "step": 1,
            "style": "IPY_MODEL_e8330b716df14e4590ea4416edd4111d",
            "value": 42
          }
        },
        "b732d4d2741243978a36c09bdb8f2c3f": {
          "model_module": "@jupyter-widgets/controls",
          "model_module_version": "1.5.0",
          "model_name": "FloatSliderModel",
          "state": {
            "_dom_classes": [],
            "_model_module": "@jupyter-widgets/controls",
            "_model_module_version": "1.5.0",
            "_model_name": "FloatSliderModel",
            "_view_count": null,
            "_view_module": "@jupyter-widgets/controls",
            "_view_module_version": "1.5.0",
            "_view_name": "FloatSliderView",
            "continuous_update": true,
            "description": "Zoom:",
            "description_tooltip": null,
            "disabled": false,
            "layout": "IPY_MODEL_dfd11b2f983a4e1ba9b4fb8f91d6b99f",
            "max": 4,
            "min": 0.5,
            "orientation": "horizontal",
            "readout": true,
            "readout_format": ".2f",
            "step": 0.1,
            "style": "IPY_MODEL_53751b352ec7469898c1d56a70f812b9",
            "value": 1
          }
        },
        "d9b1ae3543c045638758df08ce276335": {
          "model_module": "@jupyter-widgets/controls",
          "model_module_version": "1.5.0",
          "model_name": "VBoxModel",
          "state": {
            "_dom_classes": [],
            "_model_module": "@jupyter-widgets/controls",
            "_model_module_version": "1.5.0",
            "_model_name": "VBoxModel",
            "_view_count": null,
            "_view_module": "@jupyter-widgets/controls",
            "_view_module_version": "1.5.0",
            "_view_name": "VBoxView",
            "box_style": "",
            "children": [
              "IPY_MODEL_b43ed49270044c9db26a7e4339d0d531",
              "IPY_MODEL_b732d4d2741243978a36c09bdb8f2c3f"
            ],
            "layout": "IPY_MODEL_0b4b68e9b9d3457dbe54934b368ff675"
          }
        },
        "dfd11b2f983a4e1ba9b4fb8f91d6b99f": {
          "model_module": "@jupyter-widgets/base",
          "model_module_version": "1.2.0",
          "model_name": "LayoutModel",
          "state": {
            "_model_module": "@jupyter-widgets/base",
            "_model_module_version": "1.2.0",
            "_model_name": "LayoutModel",
            "_view_count": null,
            "_view_module": "@jupyter-widgets/base",
            "_view_module_version": "1.2.0",
            "_view_name": "LayoutView",
            "align_content": null,
            "align_items": null,
            "align_self": null,
            "border": null,
            "bottom": null,
            "display": null,
            "flex": null,
            "flex_flow": null,
            "grid_area": null,
            "grid_auto_columns": null,
            "grid_auto_flow": null,
            "grid_auto_rows": null,
            "grid_column": null,
            "grid_gap": null,
            "grid_row": null,
            "grid_template_areas": null,
            "grid_template_columns": null,
            "grid_template_rows": null,
            "height": null,
            "justify_content": null,
            "justify_items": null,
            "left": null,
            "margin": null,
            "max_height": null,
            "max_width": null,
            "min_height": null,
            "min_width": null,
            "object_fit": null,
            "object_position": null,
            "order": null,
            "overflow": null,
            "overflow_x": null,
            "overflow_y": null,
            "padding": null,
            "right": null,
            "top": null,
            "visibility": null,
            "width": null
          }
        },
        "e8330b716df14e4590ea4416edd4111d": {
          "model_module": "@jupyter-widgets/controls",
          "model_module_version": "1.5.0",
          "model_name": "SliderStyleModel",
          "state": {
            "_model_module": "@jupyter-widgets/controls",
            "_model_module_version": "1.5.0",
            "_model_name": "SliderStyleModel",
            "_view_count": null,
            "_view_module": "@jupyter-widgets/base",
            "_view_module_version": "1.2.0",
            "_view_name": "StyleView",
            "description_width": "",
            "handle_color": null
          }
        }
      }
    }
  },
  "nbformat": 4,
  "nbformat_minor": 0
}
